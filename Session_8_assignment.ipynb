{
  "nbformat": 4,
  "nbformat_minor": 0,
  "metadata": {
    "colab": {
      "name": "Session-8-assignment.ipynb",
      "provenance": [],
      "collapsed_sections": [],
      "authorship_tag": "ABX9TyPHwwbWtdNVZSZMOaDTCOrG",
      "include_colab_link": true
    },
    "kernelspec": {
      "name": "python3",
      "display_name": "Python 3"
    },
    "language_info": {
      "name": "python"
    }
  },
  "cells": [
    {
      "cell_type": "markdown",
      "metadata": {
        "id": "view-in-github",
        "colab_type": "text"
      },
      "source": [
        "<a href=\"https://colab.research.google.com/github/aneeshads/EPAi4-assignment-session-8/blob/main/Session_8_assignment.ipynb\" target=\"_parent\"><img src=\"https://colab.research.google.com/assets/colab-badge.svg\" alt=\"Open In Colab\"/></a>"
      ]
    },
    {
      "cell_type": "code",
      "metadata": {
        "colab": {
          "base_uri": "https://localhost:8080/"
        },
        "id": "J36wmzNIYNOB",
        "outputId": "8e5ddb46-c4a5-42cd-eddb-cebba9096aee"
      },
      "source": [
        "pip install Faker"
      ],
      "execution_count": null,
      "outputs": [
        {
          "output_type": "stream",
          "name": "stdout",
          "text": [
            "Collecting Faker\n",
            "  Downloading Faker-9.8.3-py3-none-any.whl (1.2 MB)\n",
            "\u001b[?25l\r\u001b[K     |▎                               | 10 kB 26.6 MB/s eta 0:00:01\r\u001b[K     |▌                               | 20 kB 31.5 MB/s eta 0:00:01\r\u001b[K     |▉                               | 30 kB 12.7 MB/s eta 0:00:01\r\u001b[K     |█                               | 40 kB 9.7 MB/s eta 0:00:01\r\u001b[K     |█▍                              | 51 kB 5.2 MB/s eta 0:00:01\r\u001b[K     |█▋                              | 61 kB 5.6 MB/s eta 0:00:01\r\u001b[K     |█▉                              | 71 kB 6.0 MB/s eta 0:00:01\r\u001b[K     |██▏                             | 81 kB 6.8 MB/s eta 0:00:01\r\u001b[K     |██▍                             | 92 kB 6.5 MB/s eta 0:00:01\r\u001b[K     |██▊                             | 102 kB 5.4 MB/s eta 0:00:01\r\u001b[K     |███                             | 112 kB 5.4 MB/s eta 0:00:01\r\u001b[K     |███▏                            | 122 kB 5.4 MB/s eta 0:00:01\r\u001b[K     |███▌                            | 133 kB 5.4 MB/s eta 0:00:01\r\u001b[K     |███▊                            | 143 kB 5.4 MB/s eta 0:00:01\r\u001b[K     |████                            | 153 kB 5.4 MB/s eta 0:00:01\r\u001b[K     |████▎                           | 163 kB 5.4 MB/s eta 0:00:01\r\u001b[K     |████▌                           | 174 kB 5.4 MB/s eta 0:00:01\r\u001b[K     |████▉                           | 184 kB 5.4 MB/s eta 0:00:01\r\u001b[K     |█████                           | 194 kB 5.4 MB/s eta 0:00:01\r\u001b[K     |█████▍                          | 204 kB 5.4 MB/s eta 0:00:01\r\u001b[K     |█████▋                          | 215 kB 5.4 MB/s eta 0:00:01\r\u001b[K     |█████▉                          | 225 kB 5.4 MB/s eta 0:00:01\r\u001b[K     |██████▏                         | 235 kB 5.4 MB/s eta 0:00:01\r\u001b[K     |██████▍                         | 245 kB 5.4 MB/s eta 0:00:01\r\u001b[K     |██████▊                         | 256 kB 5.4 MB/s eta 0:00:01\r\u001b[K     |███████                         | 266 kB 5.4 MB/s eta 0:00:01\r\u001b[K     |███████▎                        | 276 kB 5.4 MB/s eta 0:00:01\r\u001b[K     |███████▌                        | 286 kB 5.4 MB/s eta 0:00:01\r\u001b[K     |███████▊                        | 296 kB 5.4 MB/s eta 0:00:01\r\u001b[K     |████████                        | 307 kB 5.4 MB/s eta 0:00:01\r\u001b[K     |████████▎                       | 317 kB 5.4 MB/s eta 0:00:01\r\u001b[K     |████████▋                       | 327 kB 5.4 MB/s eta 0:00:01\r\u001b[K     |████████▉                       | 337 kB 5.4 MB/s eta 0:00:01\r\u001b[K     |█████████                       | 348 kB 5.4 MB/s eta 0:00:01\r\u001b[K     |█████████▍                      | 358 kB 5.4 MB/s eta 0:00:01\r\u001b[K     |█████████▋                      | 368 kB 5.4 MB/s eta 0:00:01\r\u001b[K     |██████████                      | 378 kB 5.4 MB/s eta 0:00:01\r\u001b[K     |██████████▏                     | 389 kB 5.4 MB/s eta 0:00:01\r\u001b[K     |██████████▍                     | 399 kB 5.4 MB/s eta 0:00:01\r\u001b[K     |██████████▊                     | 409 kB 5.4 MB/s eta 0:00:01\r\u001b[K     |███████████                     | 419 kB 5.4 MB/s eta 0:00:01\r\u001b[K     |███████████▎                    | 430 kB 5.4 MB/s eta 0:00:01\r\u001b[K     |███████████▌                    | 440 kB 5.4 MB/s eta 0:00:01\r\u001b[K     |███████████▊                    | 450 kB 5.4 MB/s eta 0:00:01\r\u001b[K     |████████████                    | 460 kB 5.4 MB/s eta 0:00:01\r\u001b[K     |████████████▎                   | 471 kB 5.4 MB/s eta 0:00:01\r\u001b[K     |████████████▋                   | 481 kB 5.4 MB/s eta 0:00:01\r\u001b[K     |████████████▉                   | 491 kB 5.4 MB/s eta 0:00:01\r\u001b[K     |█████████████▏                  | 501 kB 5.4 MB/s eta 0:00:01\r\u001b[K     |█████████████▍                  | 512 kB 5.4 MB/s eta 0:00:01\r\u001b[K     |█████████████▋                  | 522 kB 5.4 MB/s eta 0:00:01\r\u001b[K     |██████████████                  | 532 kB 5.4 MB/s eta 0:00:01\r\u001b[K     |██████████████▏                 | 542 kB 5.4 MB/s eta 0:00:01\r\u001b[K     |██████████████▌                 | 552 kB 5.4 MB/s eta 0:00:01\r\u001b[K     |██████████████▊                 | 563 kB 5.4 MB/s eta 0:00:01\r\u001b[K     |███████████████                 | 573 kB 5.4 MB/s eta 0:00:01\r\u001b[K     |███████████████▎                | 583 kB 5.4 MB/s eta 0:00:01\r\u001b[K     |███████████████▌                | 593 kB 5.4 MB/s eta 0:00:01\r\u001b[K     |███████████████▉                | 604 kB 5.4 MB/s eta 0:00:01\r\u001b[K     |████████████████                | 614 kB 5.4 MB/s eta 0:00:01\r\u001b[K     |████████████████▎               | 624 kB 5.4 MB/s eta 0:00:01\r\u001b[K     |████████████████▋               | 634 kB 5.4 MB/s eta 0:00:01\r\u001b[K     |████████████████▉               | 645 kB 5.4 MB/s eta 0:00:01\r\u001b[K     |█████████████████▏              | 655 kB 5.4 MB/s eta 0:00:01\r\u001b[K     |█████████████████▍              | 665 kB 5.4 MB/s eta 0:00:01\r\u001b[K     |█████████████████▋              | 675 kB 5.4 MB/s eta 0:00:01\r\u001b[K     |██████████████████              | 686 kB 5.4 MB/s eta 0:00:01\r\u001b[K     |██████████████████▏             | 696 kB 5.4 MB/s eta 0:00:01\r\u001b[K     |██████████████████▌             | 706 kB 5.4 MB/s eta 0:00:01\r\u001b[K     |██████████████████▊             | 716 kB 5.4 MB/s eta 0:00:01\r\u001b[K     |███████████████████             | 727 kB 5.4 MB/s eta 0:00:01\r\u001b[K     |███████████████████▎            | 737 kB 5.4 MB/s eta 0:00:01\r\u001b[K     |███████████████████▌            | 747 kB 5.4 MB/s eta 0:00:01\r\u001b[K     |███████████████████▉            | 757 kB 5.4 MB/s eta 0:00:01\r\u001b[K     |████████████████████            | 768 kB 5.4 MB/s eta 0:00:01\r\u001b[K     |████████████████████▍           | 778 kB 5.4 MB/s eta 0:00:01\r\u001b[K     |████████████████████▋           | 788 kB 5.4 MB/s eta 0:00:01\r\u001b[K     |████████████████████▉           | 798 kB 5.4 MB/s eta 0:00:01\r\u001b[K     |█████████████████████▏          | 808 kB 5.4 MB/s eta 0:00:01\r\u001b[K     |█████████████████████▍          | 819 kB 5.4 MB/s eta 0:00:01\r\u001b[K     |█████████████████████▊          | 829 kB 5.4 MB/s eta 0:00:01\r\u001b[K     |██████████████████████          | 839 kB 5.4 MB/s eta 0:00:01\r\u001b[K     |██████████████████████▏         | 849 kB 5.4 MB/s eta 0:00:01\r\u001b[K     |██████████████████████▌         | 860 kB 5.4 MB/s eta 0:00:01\r\u001b[K     |██████████████████████▊         | 870 kB 5.4 MB/s eta 0:00:01\r\u001b[K     |███████████████████████         | 880 kB 5.4 MB/s eta 0:00:01\r\u001b[K     |███████████████████████▎        | 890 kB 5.4 MB/s eta 0:00:01\r\u001b[K     |███████████████████████▌        | 901 kB 5.4 MB/s eta 0:00:01\r\u001b[K     |███████████████████████▉        | 911 kB 5.4 MB/s eta 0:00:01\r\u001b[K     |████████████████████████        | 921 kB 5.4 MB/s eta 0:00:01\r\u001b[K     |████████████████████████▍       | 931 kB 5.4 MB/s eta 0:00:01\r\u001b[K     |████████████████████████▋       | 942 kB 5.4 MB/s eta 0:00:01\r\u001b[K     |████████████████████████▉       | 952 kB 5.4 MB/s eta 0:00:01\r\u001b[K     |█████████████████████████▏      | 962 kB 5.4 MB/s eta 0:00:01\r\u001b[K     |█████████████████████████▍      | 972 kB 5.4 MB/s eta 0:00:01\r\u001b[K     |█████████████████████████▊      | 983 kB 5.4 MB/s eta 0:00:01\r\u001b[K     |██████████████████████████      | 993 kB 5.4 MB/s eta 0:00:01\r\u001b[K     |██████████████████████████▎     | 1.0 MB 5.4 MB/s eta 0:00:01\r\u001b[K     |██████████████████████████▌     | 1.0 MB 5.4 MB/s eta 0:00:01\r\u001b[K     |██████████████████████████▊     | 1.0 MB 5.4 MB/s eta 0:00:01\r\u001b[K     |███████████████████████████     | 1.0 MB 5.4 MB/s eta 0:00:01\r\u001b[K     |███████████████████████████▎    | 1.0 MB 5.4 MB/s eta 0:00:01\r\u001b[K     |███████████████████████████▋    | 1.1 MB 5.4 MB/s eta 0:00:01\r\u001b[K     |███████████████████████████▉    | 1.1 MB 5.4 MB/s eta 0:00:01\r\u001b[K     |████████████████████████████    | 1.1 MB 5.4 MB/s eta 0:00:01\r\u001b[K     |████████████████████████████▍   | 1.1 MB 5.4 MB/s eta 0:00:01\r\u001b[K     |████████████████████████████▋   | 1.1 MB 5.4 MB/s eta 0:00:01\r\u001b[K     |█████████████████████████████   | 1.1 MB 5.4 MB/s eta 0:00:01\r\u001b[K     |█████████████████████████████▏  | 1.1 MB 5.4 MB/s eta 0:00:01\r\u001b[K     |█████████████████████████████▍  | 1.1 MB 5.4 MB/s eta 0:00:01\r\u001b[K     |█████████████████████████████▊  | 1.1 MB 5.4 MB/s eta 0:00:01\r\u001b[K     |██████████████████████████████  | 1.1 MB 5.4 MB/s eta 0:00:01\r\u001b[K     |██████████████████████████████▎ | 1.2 MB 5.4 MB/s eta 0:00:01\r\u001b[K     |██████████████████████████████▌ | 1.2 MB 5.4 MB/s eta 0:00:01\r\u001b[K     |██████████████████████████████▊ | 1.2 MB 5.4 MB/s eta 0:00:01\r\u001b[K     |███████████████████████████████ | 1.2 MB 5.4 MB/s eta 0:00:01\r\u001b[K     |███████████████████████████████▎| 1.2 MB 5.4 MB/s eta 0:00:01\r\u001b[K     |███████████████████████████████▋| 1.2 MB 5.4 MB/s eta 0:00:01\r\u001b[K     |███████████████████████████████▉| 1.2 MB 5.4 MB/s eta 0:00:01\r\u001b[K     |████████████████████████████████| 1.2 MB 5.4 MB/s \n",
            "\u001b[?25hRequirement already satisfied: typing-extensions>=3.10.0.2 in /usr/local/lib/python3.7/dist-packages (from Faker) (3.10.0.2)\n",
            "Requirement already satisfied: text-unidecode==1.3 in /usr/local/lib/python3.7/dist-packages (from Faker) (1.3)\n",
            "Requirement already satisfied: python-dateutil>=2.4 in /usr/local/lib/python3.7/dist-packages (from Faker) (2.8.2)\n",
            "Requirement already satisfied: six>=1.5 in /usr/local/lib/python3.7/dist-packages (from python-dateutil>=2.4->Faker) (1.15.0)\n",
            "Installing collected packages: Faker\n",
            "Successfully installed Faker-9.8.3\n"
          ]
        }
      ]
    },
    {
      "cell_type": "code",
      "metadata": {
        "id": "i8_d-hLxUuCe",
        "colab": {
          "base_uri": "https://localhost:8080/"
        },
        "outputId": "886fa0dd-f63a-4257-ce16-65c39020f66c"
      },
      "source": [
        "# Use the Faker (Links to an external site.)library to get 10000 random profiles. \n",
        "# Using namedtuple, calculate the largest blood type, mean-current_location, \n",
        "# oldest_person_age, and average age (add proper doc-strings).\n",
        "from faker import Faker\n",
        "from collections import namedtuple, Counter\n",
        "from datetime import date, time\n",
        "from decimal import Decimal\n",
        "import statistics\n",
        "import random\n",
        "\n",
        "# internal function to calculate age\n",
        "def calculate_age(birthDate):\n",
        "    '''This function has been assigned to express the age of a person given the date of birth \\\n",
        "    (represented by the parameter 'birthDate') in the year/month/day format.'''\n",
        "\n",
        "    today = date.today()\n",
        "    age = today.year - birthDate.year - ((today.month, today.day) < (birthDate.month, birthDate.day)) \n",
        "    return age\n",
        "\n",
        "\n",
        "def profile_feature_generator_namedtuple(num_records=10000):\n",
        "    '''This function fetches 100 fake profiles of imaginary people and their personal \\\n",
        "    information. It then takes into account a few fields – username, blood type, \\\n",
        "    current location and age –  of the people represented in the records. Using the \\\n",
        "    concepts of namedtuple, the data has been stored and such calculations as largest \\\n",
        "    blood type, mean current location, age of the oldest person in the record and the \\\n",
        "    average age has been performed.\n",
        "    Usage: profile_feature_generator_namedtuple(num_records=n)'''\n",
        "\n",
        "    if (isinstance(num_records,int)) == False:\n",
        "        raise TypeError(\"Please enter an integer only\")\n",
        "    if (num_records < 0):\n",
        "        raise ValueError(\"Please enter a positive value\")\n",
        "    fake = Faker()\n",
        "    Faker.seed(0)\n",
        "    Profile = namedtuple('Profile', 'username blood_type current_location age')\n",
        "    profile_list = []\n",
        "    profile_summary_dict = {}\n",
        "    for i in range(num_records):\n",
        "        profile_details = fake.profile(fields = ['username','blood_group','current_location', 'birthdate' ])\n",
        "        testtuple = Profile(profile_details['username'],profile_details['blood_group'], profile_details['current_location'] , calculate_age(profile_details['birthdate']))\n",
        "        profile_list.append(testtuple)\n",
        "\n",
        "    blood_type_list = Counter(p.blood_type for p in profile_list)\n",
        "    largest_blood_type = blood_type_list.most_common(1)[0][0]\n",
        "    location_avg_latitude = sum(p.current_location[0] for p in profile_list)/ len(profile_list)\n",
        "    location_avg_longitude = sum(p.current_location[1] for p in profile_list)/ len(profile_list)\n",
        "    highest_age = max(p.age for p in profile_list)\n",
        "    age_avg = sum(p.age for p in profile_list) / len(profile_list)\n",
        "    profile_summary_dict = {'largest_blood_type':largest_blood_type, 'mean_current_location':(location_avg_latitude, location_avg_longitude), 'oldest_person_age':highest_age, 'average_age':age_avg}\n",
        "\n",
        "    return profile_summary_dict\n",
        "\n",
        "profile_summary_dictionary = profile_feature_generator_namedtuple()\n",
        "print(profile_summary_dictionary)\n",
        "\n"
      ],
      "execution_count": null,
      "outputs": [
        {
          "output_type": "stream",
          "name": "stdout",
          "text": [
            "{'largest_blood_type': 'AB+', 'mean_current_location': (Decimal('0.4583500264'), Decimal('-0.5367035854')), 'oldest_person_age': 115, 'average_age': 57.8398}\n"
          ]
        }
      ]
    },
    {
      "cell_type": "code",
      "metadata": {
        "id": "VRT9lH3zXLOo",
        "colab": {
          "base_uri": "https://localhost:8080/"
        },
        "outputId": "147c23e4-d6cc-41a4-cd02-8c1f29858e34"
      },
      "source": [
        "# Do the same thing above using a dictionary. Prove that namedtuple is faster.\n",
        "\n",
        "def profile_feature_generator_dictionary(num_records=10000):\n",
        "    '''This function fetches 100 fake profiles of imaginary people and their personal \\\n",
        "    information. It then takes into account a few fields – username, blood type, \\\n",
        "    current location and age –  of the people represented in the records. Using the \\\n",
        "    concepts of dictionary, the data has been stored and such calculations as largest \\\n",
        "    blood type, mean current location, age of the oldest person in the record and the \\\n",
        "    average age has been performed.\n",
        "    Usage: profile_feature_generator_dictionary(num_records=n)'''\n",
        "\n",
        "    if (isinstance(num_records,int)) == False:\n",
        "        raise TypeError(\"Please enter an integer only\")\n",
        "    if (num_records < 0):\n",
        "        raise ValueError(\"Please enter a positive value\")\n",
        "    profile_dict = {}\n",
        "    profile_summary_dict = {}\n",
        "    fake = Faker()\n",
        "    Faker.seed(0)\n",
        "    for i in range(num_records):\n",
        "        profile_details = fake.profile(fields = ['username','blood_group','current_location', 'birthdate' ])\n",
        "        profile_details['age'] = calculate_age(profile_details['birthdate'])\n",
        "        profile_dict[i+1] = profile_details\n",
        "    blood_type_list = Counter(profile_dict[p]['blood_group'] for p in profile_dict)\n",
        "    largest_blood_type = blood_type_list.most_common(1)[0][0]\n",
        "    location_avg_latitude = sum(profile_dict[p]['current_location'][0] for p in profile_dict)/ len(profile_dict)\n",
        "    location_avg_longitude = sum(profile_dict[p]['current_location'][1] for p in profile_dict)/ len(profile_dict)\n",
        "    highest_age = max(profile_dict[p]['age'] for p in profile_dict)\n",
        "    age_avg = sum(profile_dict[p]['age'] for p in profile_dict) / len(profile_dict)\n",
        "    profile_summary_dict = {'largest_blood_type':largest_blood_type, 'mean_current_location':(location_avg_latitude, location_avg_longitude), 'oldest_person_age':highest_age, 'average_age':age_avg}\n",
        "\n",
        "    return profile_summary_dict\n",
        "\n",
        "profile_summary_dictionary = profile_feature_generator_dictionary()\n",
        "print(profile_summary_dictionary)\n",
        "\n"
      ],
      "execution_count": null,
      "outputs": [
        {
          "output_type": "stream",
          "name": "stdout",
          "text": [
            "{'largest_blood_type': 'AB+', 'mean_current_location': (Decimal('0.4583500264'), Decimal('-0.5367035854')), 'oldest_person_age': 115, 'average_age': 57.8398}\n"
          ]
        }
      ]
    },
    {
      "cell_type": "code",
      "metadata": {
        "id": "JanuO3LHXPuA",
        "colab": {
          "base_uri": "https://localhost:8080/"
        },
        "outputId": "9d10a714-7ca5-4367-ae73-65634f68b6dc"
      },
      "source": [
        "# Create fake data (you can use Faker for company names) for imaginary stock \n",
        "# exchange for top 100 companies (name, symbol, open, high, close). Assign a \n",
        "# random weight to all the companies. Calculate and show what value the stock \n",
        "# market started at, what was the highest value during the day, and where did it\n",
        "# end. Make sure your open, high, close are not totally random. You can only use\n",
        "# namedtuple.\n",
        "\n",
        "\n",
        "def company_profile_generator(num_records=100):\n",
        "    ''''This function fetches the names of a number of companies (specified by \\\n",
        "    the parameter num_records) and stores data related to their stock prices \\ \n",
        "    using the concepts of namedtuple. The data stored in the namedtuple are usually \\\n",
        "    price during the opening, highest price and the price at closing. In addition, each \\\n",
        "    of the companies have been allotted weights, which reflect each of their market cap. \\\n",
        "    Using the aforementioned knowledge, the weighted average of the opening price, the \\\n",
        "    weighted average of  the highest price and the weighted average of the closing price \\\n",
        "    has been calculated for each company. \n",
        "    Usage: company_profile_generator(num_records=n)'''\n",
        "\n",
        "    if (isinstance(num_records,int)) == False:\n",
        "        raise TypeError(\"Please enter an integer only\")\n",
        "    if (num_records < 0):\n",
        "        raise ValueError(\"Please enter a positive value\")\n",
        "    fake = Faker()\n",
        "    Faker.seed(0)\n",
        "    Faker100 = namedtuple('Faker100', 'name symbol open high close weight')\n",
        "    company_stock = []\n",
        "    Faker100_stock_summary_dict = {}\n",
        "    Faker100 = namedtuple('Faker100', 'name symbol open high close weight')\n",
        "    company_stock = []\n",
        "    Faker100_stock_summary_dict = {}\n",
        "\n",
        "    for c in range(num_records):\n",
        "        name = fake.company() + ' ' + fake.company_suffix()\n",
        "        symbol = (name[:4].upper() + str(c))\n",
        "        open = random.randint(1, 1000)\n",
        "        increaseperc = (random.randint (0,20)/100) * open\n",
        "        high = random.randint(open, int(open+increaseperc))\n",
        "        decreaseperc = (random.randint(0,20)/100) * open\n",
        "        low = random.randint(int(open-decreaseperc), open)\n",
        "        close = random.randint(low, high)\n",
        "        weight = random.randint(1, 10)\n",
        "        companytuple = Faker100(name, symbol, open, high, close, weight)\n",
        "        company_stock.append(companytuple)\n",
        "\n",
        "    sum_of_weights = sum(p.weight for p in company_stock)\n",
        "    weightedopen = round(sum((p.open * p.weight) for p in company_stock)/sum_of_weights, 2)\n",
        "    weightedhigh = round(sum((p.high * p.weight) for p in company_stock)/sum_of_weights, 2)\n",
        "    weightedclose = round(sum((p.close * p.weight) for p in company_stock)/sum_of_weights, 2)\n",
        "    Faker100_stock_summary_dict = {'weighted_open':weightedopen, 'weighted_high':weightedhigh, 'weighted_close':weightedclose}\n",
        "\n",
        "    return company_stock, Faker100_stock_summary_dict\n",
        "\n",
        "\n",
        "company_stock_data_dict, profile_summary_dictionary = company_profile_generator()\n",
        "print(company_stock_data_dict)\n",
        "print(profile_summary_dictionary)"
      ],
      "execution_count": null,
      "outputs": [
        {
          "output_type": "stream",
          "name": "stdout",
          "text": [
            "[Faker100(name='Chang-Fisher LLC', symbol='CHAN0', open=311, high=324, close=317, weight=4), Faker100(name='Tucker, Hull and Gallegos Group', symbol='TUCK1', open=106, high=121, close=103, weight=2), Faker100(name='Silva-Odonnell PLC', symbol='SILV2', open=701, high=753, close=622, weight=2), Faker100(name='Campbell Inc PLC', symbol='CAMP3', open=636, high=663, close=662, weight=9), Faker100(name='Archer-Patel Ltd', symbol='ARCH4', open=473, high=481, close=470, weight=5), Faker100(name='Barrera, Collins and Blair Ltd', symbol='BARR5', open=769, high=818, close=774, weight=6), Faker100(name='Kennedy-Garcia Group', symbol='KENN6', open=912, high=912, close=896, weight=8), Faker100(name='Carr-Durham PLC', symbol='CARR7', open=215, high=216, close=214, weight=6), Faker100(name='Ramos-Boyd Inc', symbol='RAMO8', open=410, high=422, close=362, weight=1), Faker100(name='Moon, Davis and Larsen Ltd', symbol='MOON9', open=619, high=626, close=598, weight=5), Faker100(name='Garrett, Salazar and Clayton LLC', symbol='GARR10', open=733, high=741, close=653, weight=1), Faker100(name='Cross Ltd Inc', symbol='CROS11', open=89, high=89, close=89, weight=1), Faker100(name='Stark and Sons and Sons', symbol='STAR12', open=123, high=140, close=138, weight=1), Faker100(name='Pratt Group Inc', symbol='PRAT13', open=817, high=849, close=814, weight=2), Faker100(name='Kaiser PLC Group', symbol='KAIS14', open=476, high=499, close=491, weight=8), Faker100(name='Turner LLC Ltd', symbol='TURN15', open=621, high=644, close=643, weight=2), Faker100(name='Kelley PLC and Sons', symbol='KELL16', open=384, high=386, close=386, weight=8), Faker100(name='Payne, Roberts and Davis Group', symbol='PAYN17', open=524, high=546, close=537, weight=9), Faker100(name='Johnston-Roberts and Sons', symbol='JOHN18', open=358, high=366, close=342, weight=4), Faker100(name='Johnson Ltd LLC', symbol='JOHN19', open=139, high=142, close=139, weight=4), Faker100(name='Jones-Shelton and Sons', symbol='JONE20', open=414, high=449, close=446, weight=8), Faker100(name='Mclean Inc Ltd', symbol='MCLE21', open=773, high=774, close=774, weight=5), Faker100(name='Vega, Massey and Warren PLC', symbol='VEGA22', open=891, high=1057, close=1023, weight=4), Faker100(name='Atkinson Ltd PLC', symbol='ATKI23', open=190, high=209, close=200, weight=7), Faker100(name='Riley-Hayes Ltd', symbol='RILE24', open=754, high=776, close=771, weight=5), Faker100(name='Davies, Stark and Leon Inc', symbol='DAVI25', open=787, high=800, close=796, weight=4), Faker100(name='Salazar-Tucker Ltd', symbol='SALA26', open=469, high=477, close=477, weight=6), Faker100(name='Bruce-Sanchez Ltd', symbol='BRUC27', open=626, high=690, close=628, weight=7), Faker100(name='Wilson-Robinson and Sons', symbol='WILS28', open=414, high=421, close=413, weight=3), Faker100(name='Simmons-Brown and Sons', symbol='SIMM29', open=124, high=124, close=123, weight=10), Faker100(name='Robinson, Montoya and Walters PLC', symbol='ROBI30', open=290, high=326, close=300, weight=3), Faker100(name='Becker, Johnson and Reid PLC', symbol='BECK31', open=538, high=596, close=562, weight=5), Faker100(name='Wilson, Davis and Bass Inc', symbol='WILS32', open=951, high=1030, close=953, weight=2), Faker100(name='Jacobs and Sons and Sons', symbol='JACO33', open=954, high=1004, close=971, weight=3), Faker100(name='Martinez, Clark and Owen Ltd', symbol='MART34', open=488, high=489, close=454, weight=3), Faker100(name='Stephens PLC Inc', symbol='STEP35', open=302, high=305, close=300, weight=3), Faker100(name='Jones-Jones LLC', symbol='JONE36', open=369, high=389, close=365, weight=6), Faker100(name='Graham-Brown Group', symbol='GRAH37', open=566, high=621, close=591, weight=7), Faker100(name='Carlson Ltd Group', symbol='CARL38', open=473, high=483, close=468, weight=8), Faker100(name='Green Ltd Group', symbol='GREE39', open=636, high=666, close=627, weight=10), Faker100(name='Jackson, Chambers and Levy Inc', symbol='JACK40', open=622, high=730, close=728, weight=3), Faker100(name='Moore, Martin and Moreno Inc', symbol='MOOR41', open=369, high=375, close=374, weight=7), Faker100(name='Morse, Wade and Smith Ltd', symbol='MORS42', open=504, high=530, close=519, weight=7), Faker100(name='Mccullough-Golden LLC', symbol='MCCU43', open=361, high=363, close=360, weight=8), Faker100(name='Howard, Monroe and King PLC', symbol='HOWA44', open=426, high=448, close=412, weight=7), Faker100(name='Smith, Harmon and Rogers Inc', symbol='SMIT45', open=734, high=746, close=712, weight=5), Faker100(name='Campbell, Allen and Benton LLC', symbol='CAMP46', open=157, high=157, close=157, weight=2), Faker100(name='Roberts, Howard and Arroyo Ltd', symbol='ROBE47', open=614, high=614, close=594, weight=7), Faker100(name='Anderson, Collins and Goodman Ltd', symbol='ANDE48', open=196, high=209, close=197, weight=4), Faker100(name='Smith and Sons Ltd', symbol='SMIT49', open=8, high=8, close=8, weight=6), Faker100(name='Moore-Walker Group', symbol='MOOR50', open=890, high=890, close=877, weight=10), Faker100(name='Page-Nunez Group', symbol='PAGE51', open=753, high=778, close=777, weight=7), Faker100(name='Morales Ltd PLC', symbol='MORA52', open=868, high=940, close=816, weight=8), Faker100(name='Barton-Fletcher and Sons', symbol='BART53', open=815, high=884, close=879, weight=10), Faker100(name='Brown-Miles Group', symbol='BROW54', open=762, high=771, close=715, weight=8), Faker100(name='Dyer, Odonnell and Munoz Inc', symbol='DYER55', open=421, high=462, close=421, weight=1), Faker100(name='Simpson LLC Group', symbol='SIMP56', open=791, high=823, close=814, weight=3), Faker100(name='Lamb Group and Sons', symbol='LAMB57', open=164, high=170, close=162, weight=9), Faker100(name='Key, Schultz and Miller Ltd', symbol='KEY,58', open=258, high=275, close=262, weight=3), Faker100(name='Hatfield Group Ltd', symbol='HATF59', open=617, high=618, close=590, weight=6), Faker100(name='Stewart-Lewis Ltd', symbol='STEW60', open=723, high=760, close=742, weight=6), Faker100(name='Baird Ltd PLC', symbol='BAIR61', open=208, high=212, close=212, weight=4), Faker100(name='Davis, Wilson and Banks LLC', symbol='DAVI62', open=938, high=995, close=953, weight=3), Faker100(name='Barker-White Group', symbol='BARK63', open=935, high=936, close=935, weight=2), Faker100(name='Burton-Johnson Group', symbol='BURT64', open=314, high=317, close=312, weight=7), Faker100(name='Callahan and Sons Ltd', symbol='CALL65', open=304, high=309, close=309, weight=1), Faker100(name='Roth, Newman and Wilson and Sons', symbol='ROTH66', open=535, high=579, close=567, weight=10), Faker100(name='York-Williams and Sons', symbol='YORK67', open=875, high=908, close=747, weight=2), Faker100(name='Green, Edwards and Richardson PLC', symbol='GREE68', open=166, high=183, close=170, weight=10), Faker100(name='Mathis Ltd PLC', symbol='MATH69', open=219, high=219, close=213, weight=7), Faker100(name='Simpson, Schneider and Ellis Group', symbol='SIMP70', open=220, high=220, close=220, weight=7), Faker100(name='Savage-Thompson Group', symbol='SAVA71', open=868, high=960, close=901, weight=5), Faker100(name='Carter, Taylor and Nelson LLC', symbol='CART72', open=862, high=862, close=821, weight=4), Faker100(name='Higgins-Morgan PLC', symbol='HIGG73', open=539, high=637, close=578, weight=3), Faker100(name='Williams and Sons and Sons', symbol='WILL74', open=822, high=835, close=811, weight=3), Faker100(name='Roberts, Foster and Kelley LLC', symbol='ROBE75', open=754, high=800, close=769, weight=6), Faker100(name='Woods and Sons Inc', symbol='WOOD76', open=217, high=217, close=206, weight=5), Faker100(name='White-Mills Inc', symbol='WHIT77', open=755, high=890, close=884, weight=6), Faker100(name='Powell-Murphy Group', symbol='POWE78', open=825, high=848, close=847, weight=3), Faker100(name='Garcia Group Group', symbol='GARC79', open=860, high=880, close=848, weight=10), Faker100(name='Randall-Cherry LLC', symbol='RAND80', open=939, high=1106, close=1055, weight=10), Faker100(name='Mendoza Ltd Group', symbol='MEND81', open=199, high=199, close=199, weight=1), Faker100(name='Johnson-Rogers Ltd', symbol='JOHN82', open=983, high=998, close=952, weight=4), Faker100(name='Gillespie Ltd PLC', symbol='GILL83', open=982, high=1051, close=1039, weight=8), Faker100(name='Drake-Frey Inc', symbol='DRAK84', open=654, high=654, close=654, weight=10), Faker100(name='Morton and Sons Ltd', symbol='MORT85', open=546, high=595, close=582, weight=9), Faker100(name='Brown Inc Inc', symbol='BROW86', open=400, high=414, close=404, weight=2), Faker100(name='Hawkins-Roberts Group', symbol='HAWK87', open=295, high=297, close=257, weight=5), Faker100(name='Klein, Robinson and Miller and Sons', symbol='KLEI88', open=341, high=342, close=341, weight=8), Faker100(name='Richards-Jackson and Sons', symbol='RICH89', open=609, high=658, close=644, weight=1), Faker100(name='Wilson-Short Ltd', symbol='WILS90', open=990, high=1062, close=969, weight=8), Faker100(name='Leach Group Ltd', symbol='LEAC91', open=105, high=108, close=105, weight=3), Faker100(name='Wilson Group LLC', symbol='WILS92', open=714, high=736, close=701, weight=2), Faker100(name='Davidson and Sons PLC', symbol='DAVI93', open=309, high=320, close=312, weight=7), Faker100(name='Garcia Group Group', symbol='GARC94', open=864, high=883, close=880, weight=3), Faker100(name='Payne-Hernandez PLC', symbol='PAYN95', open=839, high=881, close=824, weight=7), Faker100(name='Hernandez-Sullivan Ltd', symbol='HERN96', open=20, high=21, close=21, weight=6), Faker100(name='Rich-Simpson LLC', symbol='RICH97', open=69, high=69, close=69, weight=3), Faker100(name='Bolton-Reid and Sons', symbol='BOLT98', open=772, high=856, close=846, weight=9), Faker100(name='Lynch, Robinson and Peterson Ltd', symbol='LYNC99', open=535, high=547, close=538, weight=7)]\n",
            "{'weighted_open': 551.09, 'weighted_high': 579.75, 'weighted_close': 558.99}\n"
          ]
        }
      ]
    },
    {
      "cell_type": "markdown",
      "metadata": {
        "id": "wkyNXSOPqbpu"
      },
      "source": [
        ""
      ]
    },
    {
      "cell_type": "code",
      "metadata": {
        "id": "P5-rJmDbSksP"
      },
      "source": [
        ""
      ],
      "execution_count": null,
      "outputs": []
    }
  ]
}